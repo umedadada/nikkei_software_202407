{
  "nbformat": 4,
  "nbformat_minor": 0,
  "metadata": {
    "colab": {
      "provenance": [],
      "include_colab_link": true
    },
    "kernelspec": {
      "name": "python3",
      "display_name": "Python 3"
    },
    "language_info": {
      "name": "python"
    }
  },
  "cells": [
    {
      "cell_type": "markdown",
      "metadata": {
        "id": "view-in-github",
        "colab_type": "text"
      },
      "source": [
        "<a href=\"https://colab.research.google.com/github/umedadada/nikkei_software_202407/blob/master/2024_nikkei_02.ipynb\" target=\"_parent\"><img src=\"https://colab.research.google.com/assets/colab-badge.svg\" alt=\"Open In Colab\"/></a>"
      ]
    },
    {
      "cell_type": "code",
      "execution_count": 344,
      "metadata": {
        "id": "hAlMGXCiFP2k"
      },
      "outputs": [],
      "source": [
        "# ライブラリの読み込み\n",
        "import pandas as pd #データを取り扱うためのライブラリ\n",
        "import plotly.express as px #データを可視化するためのライブラリ"
      ]
    },
    {
      "cell_type": "code",
      "source": [
        "# データの読み込み\n",
        "raw_df=pd.read_csv('./FEH_00500215_240423175115.csv',encoding=\"shift-jis\")\n",
        "# データのカラム確認\n",
        "raw_df.info()\n",
        "# データの表示\n",
        "raw_df"
      ],
      "metadata": {
        "id": "D4XRif2bGFZp",
        "colab": {
          "base_uri": "https://localhost:8080/"
        },
        "outputId": "64534b03-c028-4290-e23d-32440c45f0e7",
        "collapsed": true
      },
      "execution_count": 345,
      "outputs": [
        {
          "output_type": "stream",
          "name": "stdout",
          "text": [
            "<class 'pandas.core.frame.DataFrame'>\n",
            "RangeIndex: 95040 entries, 0 to 95039\n",
            "Data columns (total 10 columns):\n",
            " #   Column                  Non-Null Count  Dtype \n",
            "---  ------                  --------------  ----- \n",
            " 0   cat01_code              95040 non-null  int64 \n",
            " 1   結果樹面積・10a当たり収量・収穫量・出荷量  95040 non-null  object\n",
            " 2   cat02_code              95040 non-null  int64 \n",
            " 3   果樹調査品目                  95040 non-null  object\n",
            " 4   area_code               95040 non-null  int64 \n",
            " 5   全国、都府県、全国農業地域           95040 non-null  object\n",
            " 6   time_code               95040 non-null  int64 \n",
            " 7   時間軸（年次）                 95040 non-null  object\n",
            " 8   unit                    95040 non-null  object\n",
            " 9   value                   95040 non-null  object\n",
            "dtypes: int64(4), object(6)\n",
            "memory usage: 7.3+ MB\n"
          ]
        }
      ]
    },
    {
      "cell_type": "code",
      "source": [
        "# データの前処理\n",
        "df = raw_df[(raw_df['結果樹面積・10a当たり収量・収穫量・出荷量']=='収穫量') & #指標を人口に絞る\n",
        "            (raw_df['果樹調査品目']=='りんご')] #男女の区別をせず、「総数」を抽出する\n",
        "df = df[['時間軸（年次）','結果樹面積・10a当たり収量・収穫量・出荷量','果樹調査品目','全国、都府県、全国農業地域','value']] #カラムを絞る\n",
        "df.columns = ['year','vel_type','type_fruit','area','value'] #カラム名を変更する\n",
        "df = df.assign(value=df['value'].replace('−',0))# 数値以外の値を除去\n",
        "df = df.assign(value=df['value'].replace('…',0))# 数値以外の値を除去\n",
        "df = df.assign(value=df['value'].replace('X',0))# 数値以外の値を除去\n",
        "df = df.assign(value = df['value'].astype('int64')) #数値カラムの型変換をする\n",
        "## ソート\n",
        "df = df.sort_values(by=['year'],ascending=False) #西暦でソート\n",
        "\n",
        "# df = df.sort_values(by=['year','value'],ascending=False) #西暦でソート\n",
        "# df"
      ],
      "metadata": {
        "id": "O00n9Xehsp23"
      },
      "execution_count": 346,
      "outputs": []
    },
    {
      "cell_type": "code",
      "source": [
        "# pd.set_option('display.max_rows', None)\n",
        "# pd.set_option('display.max_columns', None)\n",
        "# df[df['year']=='2016年']"
      ],
      "metadata": {
        "id": "N6ygeg3tMECe"
      },
      "execution_count": 347,
      "outputs": []
    },
    {
      "cell_type": "code",
      "source": [
        "from google.colab import drive\n",
        "drive.mount('/content/drive')"
      ],
      "metadata": {
        "id": "F01eZ8nl6M1k"
      },
      "execution_count": null,
      "outputs": []
    },
    {
      "cell_type": "code",
      "source": [
        "# viz_df = df[(df['area']=='青森県')] #条件の絞り込み\n",
        "# fig=px.line(viz_df, x='year', y='value') #折れ線を描画\n",
        "# fig"
      ],
      "metadata": {
        "id": "HbVu0VyaPECj"
      },
      "execution_count": 348,
      "outputs": []
    },
    {
      "cell_type": "code",
      "source": [
        "# 調査年の範囲を調べる\n",
        "print([min(df['year']),max(df['year'])])"
      ],
      "metadata": {
        "id": "bDiM_1L_-26o"
      },
      "execution_count": 349,
      "outputs": []
    },
    {
      "cell_type": "code",
      "source": [
        "# 可視化のためのデータ加工\n",
        "## 条件の絞り込み\n",
        "viz_df = df[(df['area']!='全国')&\n",
        "            (df['year']=='2016年')]\n",
        "\n",
        "## 軸の名前を明示的に指定して可視化\n",
        "fig = px.pie(viz_df, values='value', names='area',color='area',title='図. 2016年の国内りんご収穫量の内訳')\n",
        "fig.update_traces(textposition='inside')\n",
        "\n",
        "fig"
      ],
      "metadata": {
        "id": "gajPSj43UZ9S"
      },
      "execution_count": null,
      "outputs": []
    },
    {
      "cell_type": "code",
      "source": [
        "# 可視化のためのデータ加工\n",
        "## 条件の絞り込み\n",
        "viz_df = df[(df['area']!='全国')&\n",
        "            (df['year']=='2016年')]\n",
        "\n",
        "top5_prefecture = viz_df.nlargest(5,'value')['area']\n",
        "viz_df.loc[~viz_df['area'].isin(top5_prefecture), 'area'] = 'その他'\n",
        "\n",
        "## 可視化\n",
        "fig = px.pie(viz_df, values='value', names='area',color='area',title='図. 2016年の国内りんご収穫量の内訳')\n",
        "fig.update_traces(textposition='inside')\n",
        "fig"
      ],
      "metadata": {
        "id": "_fg6FpSWsUGz"
      },
      "execution_count": null,
      "outputs": []
    },
    {
      "cell_type": "code",
      "source": [
        "## 総収穫量を算出\n",
        "sum_val=sum(viz_df['value'])\n",
        "## コンマ表示に整形する\n",
        "comma_sum_val = \"{:,}\".format(sum_val)\n",
        "fig = px.pie(viz_df, values='value', names='area',color='area'\n",
        "             ,title='図. 2016年の国内りんご収穫量の内訳（総収穫量：{}t ）'.format(comma_sum_val)\n",
        "             ,color_discrete_map={\n",
        "              '青森県':'red'\n",
        "              ,'長野県':'pink'\n",
        "              ,'山形県':'gray'\n",
        "              ,'岩手県':'gray'\n",
        "              ,'福島県':'gray'\n",
        "              ,'その他':'gray'\n",
        "              }\n",
        "             )\n",
        "fig.update_traces(textinfo='label+percent',textposition='inside')"
      ],
      "metadata": {
        "id": "tIzfzdXtFehp"
      },
      "execution_count": null,
      "outputs": []
    },
    {
      "cell_type": "code",
      "source": [
        "# 可視化のためのデータ加工\n",
        "## 条件の絞り込み\n",
        "viz_df = df[(df['area']!='全国')&\n",
        "            (df['year']=='2016年')]\n",
        "\n",
        "## 総収穫量を算出\n",
        "sum_val=sum(viz_df['value'])\n",
        "## コンマ表示に整形する\n",
        "comma_sum_val = \"{:,}\".format(sum_val)\n",
        "# ツリーマップの作成\n",
        "fig = px.treemap(viz_df, path=['area'], values='value',title='図. 2016年の国内りんご収穫量の内訳（総収穫量：{}t ）'.format(comma_sum_val))\n",
        "fig.update_traces(textinfo='label+percent root+value')\n",
        "fig"
      ],
      "metadata": {
        "id": "xys_ieGRVZ3z"
      },
      "execution_count": null,
      "outputs": []
    },
    {
      "cell_type": "code",
      "source": [
        "# ## ソート\n",
        "# viz_df = df[(df['area']!='全国')] #条件の絞り込み\n",
        "# fig=px.bar(viz_df, x='year', y='value') #折れ線を描画\n",
        "# fig"
      ],
      "metadata": {
        "id": "ejO1bBe4X7a6"
      },
      "execution_count": null,
      "outputs": []
    },
    {
      "cell_type": "code",
      "source": [
        "#絞り込み\n",
        "viz_df = df[(df['area']!='全国')] #条件の絞り込み\n",
        "\n",
        "# 各列の合計を計算\n",
        "col_sum = viz_df.groupby('year')['value'].sum()\n",
        "\n",
        "# 各列の合計で各要素を割る\n",
        "normalized_df = viz_df.copy()  # データを変更せずにコピーする\n",
        "for year, sum_value in col_sum.items():\n",
        "    normalized_df.loc[normalized_df['year'] == year, 'value'] /= sum_value\n",
        "\n",
        "fig=px.bar(normalized_df, x='year', y='value',color='area') #折れ線を描画\n",
        "fig"
      ],
      "metadata": {
        "id": "O6lOa5HqkwUS"
      },
      "execution_count": null,
      "outputs": []
    }
  ]
}